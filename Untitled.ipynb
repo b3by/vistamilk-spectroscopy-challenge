{
 "cells": [
  {
   "cell_type": "code",
   "execution_count": 1,
   "id": "9461d047-78b3-4e61-8c3b-5c30c1c988f9",
   "metadata": {},
   "outputs": [],
   "source": [
    "import pandas as pd\n",
    "import numpy as np\n",
    "\n",
    "import matplotlib.pyplot as plt\n",
    "\n",
    "from PIL import Image"
   ]
  },
  {
   "cell_type": "code",
   "execution_count": 2,
   "id": "4a818207-c36a-4644-9c9b-c883d1340dd7",
   "metadata": {},
   "outputs": [],
   "source": [
    "training_df = pd.read_excel('data/vmdata.xlsx', 0, engine='openpyxl')\n",
    "test_df = pd.read_excel('data/vmdata.xlsx', 1, engine='openpyxl')"
   ]
  },
  {
   "cell_type": "code",
   "execution_count": 3,
   "id": "798abacc-fa53-40d3-940d-33fd530e1392",
   "metadata": {},
   "outputs": [],
   "source": [
    "train_kappa = training_df['kappa_casein']\n",
    "train_micelle = training_df['Casein_micelle_size']\n",
    "train_ph = training_df['Native_pH']"
   ]
  },
  {
   "cell_type": "code",
   "execution_count": 4,
   "id": "7c63fa0d-2ee1-4142-98c1-cb75a69ed001",
   "metadata": {},
   "outputs": [],
   "source": [
    "training_df.drop(labels=['kappa_casein', 'Casein_micelle_size', 'Native_pH'], axis=1, inplace=True)"
   ]
  },
  {
   "cell_type": "code",
   "execution_count": 5,
   "id": "638d2c8e-ca11-42fc-8d83-bffb3cbc0c24",
   "metadata": {},
   "outputs": [],
   "source": [
    "# pad wave series with zeros\n",
    "for i in range(29):\n",
    "    wave = 1061 + i\n",
    "    training_df[f'wave_{wave}'] = 0"
   ]
  },
  {
   "cell_type": "code",
   "execution_count": 98,
   "id": "c6c3233e-fff8-4c95-a921-4ade3971c25b",
   "metadata": {},
   "outputs": [
    {
     "data": {
      "image/png": "[encoded data removed]",
      "text/plain": [
       "<Figure size 432x288 with 2 Axes>"
      ]
     },
     "metadata": {
      "needs_background": "light"
     },
     "output_type": "display_data"
    }
   ],
   "source": [
    "img_like = training_df.iloc[16].values\n",
    "\n",
    "# img_like = (img_like - img_like.min() / (img_like.max() - img_like.min())) * 255\n",
    "img_like *= 255 / img_like.max()\n",
    "img_like = img_like.reshape((33, 33))\n",
    "\n",
    "plt.imshow(img_like, cmap='Greys')\n",
    "plt.colorbar()\n",
    "\n",
    "im = Image.fromarray(img_like)\n",
    "im = im.convert('RGB')\n",
    "# im.save('test.png')"
   ]
  }
 ],
 "metadata": {
  "kernelspec": {
   "display_name": "Python 3 (ipykernel)",
   "language": "python",
   "name": "python3"
  },
  "language_info": {
   "codemirror_mode": {
    "name": "ipython",
    "version": 3
   },
   "file_extension": ".py",
   "mimetype": "text/x-python",
   "name": "python",
   "nbconvert_exporter": "python",
   "pygments_lexer": "ipython3",
   "version": "3.9.7"
  }
 },
 "nbformat": 4,
 "nbformat_minor": 5
}
